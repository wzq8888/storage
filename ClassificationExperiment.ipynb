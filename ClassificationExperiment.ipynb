{
 "cells": [
  {
   "cell_type": "code",
   "execution_count": 1,
   "metadata": {},
   "outputs": [
    {
     "data": {
      "image/png": "[encoded data removed]",
      "text/plain": [
       "<matplotlib.figure.Figure at 0x841c1d0>"
      ]
     },
     "metadata": {},
     "output_type": "display_data"
    }
   ],
   "source": [
    "import numpy as np\n",
    "from sklearn.datasets import load_svmlight_file\n",
    "from sklearn.model_selection import train_test_split\n",
    "import matplotlib.pylab as plt\n",
    "\n",
    "data = load_svmlight_file('./australian_scale')\n",
    "x_train,x_validate,y_train,y_validate = train_test_split(data[0],data[1],test_size=0.33)\n",
    "x_train = x_train.todense()\n",
    "x_validate = x_validate.todense()\n",
    "init_w = np.zeros(shape=[15,1])#将b塞进w\n",
    "another = np.ones(shape=[462,1])\n",
    "another1 = np.ones(shape=[228,1])\n",
    "x_train = np.hstack((x_train,another))\n",
    "x_validate = np.hstack((x_validate,another1))#分别将训练集与验证集加多一列，全为1\n",
    "c = 0.4\n",
    "learning_rate = 0.0001\n",
    "\n",
    "w = init_w\n",
    "sum = np.zeros(shape=[1,15])\n",
    "round = 500\n",
    "loss_train = []\n",
    "loss_test = []\n",
    "\n",
    "for i in range(round):\n",
    "    sum = 0\n",
    "    for j in range(x_train.shape[0]):\n",
    "        if 1 - (y_train[j] * (np.dot(w.T, x_train[j].T))).tolist()[0][0] >= 0:\n",
    "            g_w = -np.dot(np.mat(y_train[j]),np.mat(x_train[j]))\n",
    "            sum += g_w\n",
    "\n",
    "    w = w - (learning_rate * (w + (c * sum).T))\n",
    "\n",
    "    #Hinge LOss 中的||w||平方\n",
    "    total_w = np.dot(w.T,w)\n",
    "\n",
    "\n",
    "    total_ao_train=0\n",
    "    total_ao_test=0\n",
    "    #Hinge Loss 中的另一部分\n",
    "    for z in range(x_train.shape[0]):\n",
    "        total_ao_train += max(0,1 - (y_train[z] * (np.dot(w.T, x_train[z].T))).tolist()[0][0])\n",
    "\n",
    "    for n in range(x_validate.shape[0]):\n",
    "        total_ao_test += max(0,1 - (y_validate[n] * (np.dot(w.T, x_validate[n].T))).tolist()[0][0])\n",
    "\n",
    "    hinge_loss_train = 0.5 *1/462 * total_w[0] + c * total_ao_train\n",
    "    hinge_loss_test = 0.5 *1/228* total_w[0] + c * total_ao_test\n",
    "\n",
    "    loss_train.append(hinge_loss_train.tolist()[0][0])\n",
    "    loss_test.append(hinge_loss_test.tolist()[0][0])\n",
    "\n",
    "\n",
    "plt.plot(np.arange(0,round),loss_train,label=u'train')\n",
    "plt.plot(np.arange(0,round),loss_test,label=u'validate')\n",
    "plt.legend()\n",
    "plt.show()\n"
   ]
  },
  {
   "cell_type": "code",
   "execution_count": null,
   "metadata": {
    "collapsed": true
   },
   "outputs": [],
   "source": []
  }
 ],
 "metadata": {
  "kernelspec": {
   "display_name": "Python 3",
   "language": "python",
   "name": "python3"
  },
  "language_info": {
   "codemirror_mode": {
    "name": "ipython",
    "version": 3
   },
   "file_extension": ".py",
   "mimetype": "text/x-python",
   "name": "python",
   "nbconvert_exporter": "python",
   "pygments_lexer": "ipython3",
   "version": "3.6.3"
  }
 },
 "nbformat": 4,
 "nbformat_minor": 2
}
