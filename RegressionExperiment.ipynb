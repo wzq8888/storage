{
 "cells": [
  {
   "cell_type": "code",
   "execution_count": 2,
   "metadata": {},
   "outputs": [
    {
     "data": {
      "image/png": "[encoded data removed]",
      "text/plain": [
       "<matplotlib.figure.Figure at 0x9ee4208>"
      ]
     },
     "metadata": {},
     "output_type": "display_data"
    }
   ],
   "source": [
    "import numpy as np\n",
    "import matplotlib.pyplot as plt\n",
    "from sklearn.datasets import load_svmlight_file\n",
    "from sklearn.model_selection import train_test_split\n",
    "\n",
    "data = load_svmlight_file('./housing_scale')\n",
    "another2 = np.ones(shape=[506,1])\n",
    "x_train,x_validate,y_train,y_validate = train_test_split(data[0],data[1],test_size=0.33)\n",
    "x_train = x_train.todense()\n",
    "x_validate = x_validate.todense()\n",
    "y_train = np.mat(y_train)\n",
    "y_validate = np.mat(y_validate)\n",
    "another = np.ones(shape=[339,1])\n",
    "another1 = np.ones(shape=[167,1])\n",
    "x_train = np.hstack((x_train,another))\n",
    "x_validate = np.hstack((x_validate,another1))\n",
    "init_w = np.zeros(shape=[14,1])\n",
    "\n",
    "train_list=[]\n",
    "test_list=[]\n",
    "\n",
    "def train(num_iter):\n",
    "    learning_rate = 0.0005\n",
    "    w  = init_w\n",
    "    gradient = -2 * np.dot(x_train.T, (np.dot(x_train, init_w)) - y_train.T)\n",
    "    for i in range(num_iter):\n",
    "        w = w + learning_rate * gradient\n",
    "        loss = 0.5 * 1/339 * np.dot((y_train.T - np.dot(x_train, w)).T, y_train.T - np.dot(x_train, w))\n",
    "        loss1 = 0.5 *1/167 * np.dot((y_validate.T - np.dot(x_validate, w)).T, y_validate.T - np.dot(x_validate, w))\n",
    "        gradient = -2 * np.dot(x_train.T, (np.dot(x_train, w)) - y_train.T)\n",
    "        z = loss.tolist()\n",
    "        q = loss1.tolist()[0][0]\n",
    "        train_list.append(z[0][0])\n",
    "        test_list.append(q)\n",
    "        \n",
    "    plt.plot(np.arange(0,num_iter),train_list,label=u'train')\n",
    "    plt.plot(np.arange(0,num_iter),test_list,label=u'validate')\n",
    "    plt.legend()\n",
    "    plt.show()\n",
    "\n",
    "train(100)\n",
    "\n",
    "\n",
    "\n"
   ]
  },
  {
   "cell_type": "code",
   "execution_count": null,
   "metadata": {
    "collapsed": true
   },
   "outputs": [],
   "source": []
  }
 ],
 "metadata": {
  "kernelspec": {
   "display_name": "Python 3",
   "language": "python",
   "name": "python3"
  },
  "language_info": {
   "codemirror_mode": {
    "name": "ipython",
    "version": 3
   },
   "file_extension": ".py",
   "mimetype": "text/x-python",
   "name": "python",
   "nbconvert_exporter": "python",
   "pygments_lexer": "ipython3",
   "version": "3.6.3"
  }
 },
 "nbformat": 4,
 "nbformat_minor": 2
}
